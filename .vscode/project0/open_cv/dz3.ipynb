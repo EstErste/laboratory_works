{
 "cells": [
  {
   "cell_type": "markdown",
   "metadata": {},
   "source": [
    "### Отразить по горизонтали и удалить шум на photo1.jpg ###"
   ]
  },
  {
   "cell_type": "code",
   "execution_count": null,
   "metadata": {},
   "outputs": [
    {
     "data": {
      "text/plain": [
       "-1"
      ]
     },
     "execution_count": 25,
     "metadata": {},
     "output_type": "execute_result"
    }
   ],
   "source": [
    "import cv2\n",
    "photo1 = cv2.imread ('./image/photo1.jpg')\n",
    "photo1 = cv2.flip(photo1, 1)\n",
    "photo1 = cv2.bilateralFilter(photo1, 100, 200, 200)\n",
    "cv2.imshow('result', photo1)\n",
    "cv2.waitKey(0)\n"
   ]
  },
  {
   "cell_type": "markdown",
   "metadata": {},
   "source": [
    "### Размыть изображение photo2.jpg ###"
   ]
  },
  {
   "cell_type": "code",
   "execution_count": 41,
   "metadata": {},
   "outputs": [
    {
     "data": {
      "text/plain": [
       "-1"
      ]
     },
     "execution_count": 41,
     "metadata": {},
     "output_type": "execute_result"
    }
   ],
   "source": [
    "photo2 = cv2.imread('./image/photo2.jpg')\n",
    "photo2 = cv2.GaussianBlur(photo2, (15, 15), 1000)\n",
    "cv2.imshow('blur', photo2)\n",
    "cv2.waitKey(0)\n"
   ]
  },
  {
   "cell_type": "markdown",
   "metadata": {},
   "source": [
    "###  Уменьшить , перевернуть и вырезать лицо в прямоугольную область на photo3.jpg ###"
   ]
  },
  {
   "cell_type": "code",
   "execution_count": 1,
   "metadata": {},
   "outputs": [],
   "source": [
    "\n",
    "#1. Чтение изображения.\n",
    "#2. Определение центральной области.\n",
    "#3. Вырезка центральной области.\n",
    "#4. Сохранение и отображение вырезанного изображения.\n",
    "\n",
    "\n",
    "\n",
    "import cv2\n",
    "\n",
    "# Читаем изображение\n",
    "image = cv2.imread('./image/photo3.jpg')\n",
    "image = cv2.resize(image, (image.shape[1] // 2 ,image.shape[0] // 2))\n",
    "# Получаем размеры изображения\n",
    "height, width, _ = image.shape\n",
    "\n",
    "# Определяем размеры центральной области\n",
    "center_x, center_y = width // 2, height // 2\n",
    "crop_width, crop_height = width // 2, height // 2  # Измените размеры по необходимости\n",
    "\n",
    "# Вычисляем координаты для вырезки\n",
    "start_x = center_x - crop_width // 2\n",
    "start_y = center_y - crop_height // 2\n",
    "end_x = center_x + crop_width // 2\n",
    "end_y = center_y + crop_height // 2\n",
    "\n",
    "# Вырезаем центральную область\n",
    "cropped_image = image[start_y:end_y, start_x:end_x]\n",
    "cropped_image = cv2.flip(cropped_image, 0)\n",
    "\n",
    "# Сохраняем и отображаем вырезанное изображение\n",
    "cv2.imwrite('cropped_image.jpg', cropped_image)\n",
    "cv2.imshow('Cropped Image', cropped_image)\n",
    "\n",
    "cv2.waitKey(0)\n",
    "cv2.destroyAllWindows()\n",
    "#В этом примере:\n",
    "#1. Сначала читаем изображение.\n",
    "#2. Получаем размеры изображения.\n",
    "#3. Определяем координаты центральной области на основе размеров изображения.\n",
    "#4. Вырезаем центральную область с помощью среза массива NumPy.\n",
    "#5. Сохраняем и отображаем вырезанную часть изображения."
   ]
  }
 ],
 "metadata": {
  "kernelspec": {
   "display_name": "Python 3",
   "language": "python",
   "name": "python3"
  },
  "language_info": {
   "codemirror_mode": {
    "name": "ipython",
    "version": 3
   },
   "file_extension": ".py",
   "mimetype": "text/x-python",
   "name": "python",
   "nbconvert_exporter": "python",
   "pygments_lexer": "ipython3",
   "version": "3.12.2"
  }
 },
 "nbformat": 4,
 "nbformat_minor": 2
}
