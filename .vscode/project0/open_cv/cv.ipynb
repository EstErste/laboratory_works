{
 "cells": [
  {
   "cell_type": "code",
   "execution_count": 29,
   "metadata": {},
   "outputs": [
    {
     "name": "stdout",
     "output_type": "stream",
     "text": [
      "Note: you may need to restart the kernel to use updated packages.Requirement already satisfied: opencv-python in c:\\users\\ester\\appdata\\local\\programs\\python\\python312\\lib\\site-packages (4.10.0.84)\n",
      "Requirement already satisfied: numpy>=1.21.2 in c:\\users\\ester\\appdata\\local\\programs\\python\\python312\\lib\\site-packages (from opencv-python) (1.26.4)\n",
      "\n"
     ]
    },
    {
     "name": "stderr",
     "output_type": "stream",
     "text": [
      "\n",
      "[notice] A new release of pip is available: 24.0 -> 24.3.1\n",
      "[notice] To update, run: python.exe -m pip install --upgrade pip\n"
     ]
    }
   ],
   "source": [
    "pip install opencv-python\n"
   ]
  },
  {
   "cell_type": "code",
   "execution_count": 30,
   "metadata": {},
   "outputs": [],
   "source": [
    "import cv2"
   ]
  },
  {
   "cell_type": "markdown",
   "metadata": {},
   "source": [
    "## Загрузка и показ изображения ##\n",
    "\n"
   ]
  },
  {
   "cell_type": "markdown",
   "metadata": {},
   "source": [
    "#### Создадим переменную img и загрузим в неё изображение ####"
   ]
  },
  {
   "cell_type": "code",
   "execution_count": 24,
   "metadata": {},
   "outputs": [],
   "source": [
    "\n",
    "img = cv2.imread(\"./image/photo.jpg\")"
   ]
  },
  {
   "cell_type": "markdown",
   "metadata": {},
   "source": [
    "#### показ размера изображения ####"
   ]
  },
  {
   "cell_type": "code",
   "execution_count": 25,
   "metadata": {},
   "outputs": [
    {
     "name": "stdout",
     "output_type": "stream",
     "text": [
      "(5000, 3974, 3)\n"
     ]
    }
   ],
   "source": [
    "print(img.shape)"
   ]
  },
  {
   "cell_type": "markdown",
   "metadata": {},
   "source": [
    "#### изменение формата и размера ####"
   ]
  },
  {
   "cell_type": "code",
   "execution_count": 26,
   "metadata": {},
   "outputs": [],
   "source": [
    "img = cv2.resize(img, (600, 800))\n",
    "#img = cv2.resize(img, (img.shape[1] // 2 ,img.shape[0] // 2)) # [0] - высота, первый элемент в кортеже, [1] - ширина"
   ]
  },
  {
   "cell_type": "markdown",
   "metadata": {},
   "source": [
    "#### вывод изображения, время показа и закрытие окна ####"
   ]
  },
  {
   "cell_type": "code",
   "execution_count": 27,
   "metadata": {},
   "outputs": [],
   "source": [
    "cv2.imshow('Result', img) # Выведем изображение в отдельном окне, окно назовём 'Result'\n",
    "cv2.waitKey(0) # waitKey(10000) - окно будет показываться 10 секунд, waitKey(0) - будет показываться бесконечно\n",
    "cv2.destroyAllWindows() # закрытие всех окон"
   ]
  },
  {
   "cell_type": "markdown",
   "metadata": {},
   "source": [
    "## Загрузка и показ видео ##"
   ]
  },
  {
   "cell_type": "markdown",
   "metadata": {},
   "source": [
    "#### создадим переменную cap и загрузим в нее видео ####"
   ]
  },
  {
   "cell_type": "code",
   "execution_count": null,
   "metadata": {},
   "outputs": [],
   "source": [
    "cap = cv2.VideoCapture('./image/video.mp4') # Создадим переменную cap и загрузим в неё видео"
   ]
  },
  {
   "cell_type": "code",
   "execution_count": 31,
   "metadata": {},
   "outputs": [],
   "source": [
    "import cv2\n",
    "cap = cv2.VideoCapture('./image/video.mp4')\n",
    "if not cap.isOpened():\n",
    "    print('error: could not open video.')\n",
    "    exit()\n",
    "\n",
    "fps = cap.get(cv2.CAP_PROP_FPS) #получаем количество кадров в секунду\n",
    "frame_count = int(cap.get(cv2.CAP_PROP_FRAME_COUNT)) #общее количество кадров в видео\n",
    "duration = frame_count / fps #продолжительность видео в секундах\n",
    "\n",
    "while cap.isOpened():\n",
    "    ret, frame = cap.read()\n",
    "    if not ret:\n",
    "        break\n",
    "\n",
    "    cv2.imshow('video', frame)\n",
    "\n",
    "    #ожидание 25 млсекунд между кадрами для видео с частотой 40 fps(1/40 секунды = 40 кадров в секунду)\n",
    "    if cv2.waitKey(int(1000/fps)) & 0xFF == ord('q'):\n",
    "        break\n",
    "    \n",
    "cap.release()\n",
    "cv2.destroyAllWindows()"
   ]
  },
  {
   "cell_type": "markdown",
   "metadata": {},
   "source": [
    "## Загрузка и показ видео с вебкамеры ##"
   ]
  },
  {
   "cell_type": "code",
   "execution_count": null,
   "metadata": {},
   "outputs": [],
   "source": [
    "import cv2"
   ]
  },
  {
   "cell_type": "markdown",
   "metadata": {},
   "source": [
    "#### Загрузка в переменную, изменение размера в пикселях ####"
   ]
  },
  {
   "cell_type": "code",
   "execution_count": null,
   "metadata": {},
   "outputs": [],
   "source": [
    "webc = cv2.VideoCapture(0)\n",
    "webc.set(3, 500) # id ширины 3\n",
    "webc.set(4, 300) # id высоты 4"
   ]
  },
  {
   "cell_type": "markdown",
   "metadata": {},
   "source": [
    "#### показ видео с вебкамеры и перевод в серый ####"
   ]
  },
  {
   "cell_type": "code",
   "execution_count": null,
   "metadata": {},
   "outputs": [],
   "source": [
    "webc = cv2.VideoCapture(0)\n",
    "if not webc.isOpened():       #если вебкамера закрыта\n",
    "    print(\"Cannot open camera\")\n",
    "    exit()\n",
    "\n",
    "\n",
    "while True:\n",
    "    ret, frame = webc.read() # получаем кадр за кадром\n",
    "    if not ret: # если кадр считался правильно, ret is True\n",
    "        print(\"Шляпа.Не могу получить кадр.\")\n",
    "        break\n",
    "    gray = cv2.cvtColor(frame, cv2.COLOR_BGR2GRAY) # делать изображение серым\n",
    "    cv2.imshow('frame', gray) # показать результат преобразования  \n",
    "    if cv2.waitKey(1) == ord('q'):\n",
    "        break\n",
    "# по окончании завершение и выход из цикла\n",
    "webc.release()\n",
    "cv2.destroyAllWindows()"
   ]
  },
  {
   "cell_type": "markdown",
   "metadata": {},
   "source": [
    "## Виды форматов ##"
   ]
  },
  {
   "cell_type": "markdown",
   "metadata": {},
   "source": [
    "### двухслойный ###\n"
   ]
  },
  {
   "cell_type": "markdown",
   "metadata": {},
   "source": [
    "##### бинарный #####\n",
    "Отобразить некое черное число на белом фоне. В таком случае есть всего два цвета(1 и 0), их легко отобразить и представить в формате чисел.Если говорить про большие ч\\б фото, то принцип такой же, но больше черных и белых точек. По прежнему используется бинарный формат, то есть лишь 1 и 0"
   ]
  },
  {
   "cell_type": "markdown",
   "metadata": {},
   "source": [
    "##### Чёрно-белый (GRAY) ######\n",
    "Больше уровней -> больше форматов цветовых гамм. Обычно используется 256 слоев от max черного до max белого. Градиент содержит все оттенки серого, что позволяет делать картинки с совершенно иным качеством. Для описания изображения каждую ячейку обозначаем от 0 (полностью черный) и до 255 (полностью белый). -> картинку состоящую из набора серых цветов описываем по тому же принципу, только количество чисел увеличивается до 255."
   ]
  },
  {
   "cell_type": "markdown",
   "metadata": {},
   "source": [
    "### Трёхслойный ###"
   ]
  },
  {
   "cell_type": "markdown",
   "metadata": {},
   "source": [
    "##### RGB ##### \n",
    "Цветные изображения состоят из трех серых изображений, каждый из которых приведен к красному, зеленому и синему цвету соответственно. При наложении этих трех картинок мы получаем цветовую гамму. Чтобы описать такое фото в формате чисел нужно на каждый пиксель указать три значения: значение от 0 до 255 из первой красной картинки, значение от 0 до 255 из второй зеленой картинки и наконец значение от 0 до 255 из третей синей картинки. "
   ]
  },
  {
   "cell_type": "markdown",
   "metadata": {},
   "source": [
    "##### HSV #####\n",
    "HSV – модель, что основана на RBG. Содержит все цвета из данного формата, но имеет иной способ их представления. Hue отвечает за оттенок (указывается в формате градуса (от 0o до 360)), Saturation за насыщенность, а Value за глубину. Такой формат удобен для *оптимизации фото."
   ]
  },
  {
   "cell_type": "markdown",
   "metadata": {},
   "source": [
    "##### Другие форматы #####\n",
    "BGR – Стандартное цветовое пространство OpenCV. При открытии файлов или отображении встроенными средствами используется именно оно. Является аналогом RGB пространства, но с другим порядком компонент. \\n\n",
    "\n",
    "XYZ – Данная модель была выведена в лаборатории, чтобы описать все цвета, которые может видеть глаз человека. Компоненты X, Y, Z описывают чувствительность среднестатистического наблюдателя к стандартным возбуждениям, в общем виде они представляют доработанные  R, G, B компоненты.\n",
    "\n",
    "LAB – Модель создана как доработанная модель XYZ, в которой решалась нелинейность модели с точки зрения человеческого глаза. В системе L*a*b координата L означает светлоту (в диапазоне от 0 до 100), а координаты a,b – означают позицию между зелёным-пурпурным, и синим-жёлтым цветами.\n",
    "\n",
    "YUV – Данная схема пришла из телевидения, где компонента Y – значение яркости, а UV – двух цветоразностных сигналов."
   ]
  },
  {
   "cell_type": "code",
   "execution_count": null,
   "metadata": {},
   "outputs": [],
   "source": [
    "# пример игры с цветом \n",
    "img1 = cv2.cvtColor(img, cv2.COLOR_BGR2RGB)\n",
    "cv2.imshow('Result', img1) # Выведем изображение в отдельном окне, окно назовём 'Result'\n",
    "cv2.waitKey(0) # waitKey(10000) - окно будет показываться 10 секунд, waitKey(0) - будет показываться бесконечно\n",
    "cv2.destroyAllWindows() # закрытие всех окон"
   ]
  },
  {
   "cell_type": "code",
   "execution_count": null,
   "metadata": {},
   "outputs": [],
   "source": [
    "# цветное изображение в черно-белое\n",
    "img2 = cv2.cvtColor(img, cv2.COLOR_BGR2GRAY)\n",
    "cv2.imshow('Result', img2) # Выведем изображение в отдельном окне, окно назовём 'Result'\n",
    "cv2.waitKey(0) # waitKey(10000) - окно будет показываться 10 секунд, waitKey(0) - будет показываться бесконечно\n",
    "cv2.destroyAllWindows() # закрытие всех окон"
   ]
  },
  {
   "cell_type": "markdown",
   "metadata": {},
   "source": [
    "### Разбиение на слои ###"
   ]
  },
  {
   "cell_type": "markdown",
   "metadata": {},
   "source": [
    " ##### фото лисы в нормальном цвете - формат палитры BGR #####"
   ]
  },
  {
   "cell_type": "code",
   "execution_count": 32,
   "metadata": {},
   "outputs": [
    {
     "data": {
      "text/plain": [
       "-1"
      ]
     },
     "execution_count": 32,
     "metadata": {},
     "output_type": "execute_result"
    }
   ],
   "source": [
    "imgx = cv2.imread(\"./image/fox1.jpg\")\n",
    "imgx = cv2.resize(imgx, (imgx.shape[1] // 2 ,imgx.shape[0] // 2))\n",
    "cv2.imshow('normal color fox', imgx)\n",
    "cv2.waitKey(0)\n"
   ]
  },
  {
   "cell_type": "markdown",
   "metadata": {},
   "source": [
    "##### разбиение на слои по b, g, r. показ синей части в спектре ч\\б #####"
   ]
  },
  {
   "cell_type": "code",
   "execution_count": null,
   "metadata": {},
   "outputs": [],
   "source": [
    "b, g, r = cv2.split(imgx)\n",
    "cv2.imshow(\"gray color fox - blue spectrum\", b)\n",
    "cv2.waitKey(0)\n",
    "print(imgx.shape)\n",
    "# Там где синий цвет был насыщенней мы видим оттенки белого.\n",
    "# Tам где его практически не было - оттенки чёрного. \n"
   ]
  },
  {
   "cell_type": "markdown",
   "metadata": {},
   "source": [
    "##### показ зеленой части в спектре ч\\б #####"
   ]
  },
  {
   "cell_type": "code",
   "execution_count": null,
   "metadata": {},
   "outputs": [],
   "source": [
    "cv2.imshow('gray color fox - green spectrum',  g)\n",
    "cv2.waitKey(0)"
   ]
  },
  {
   "cell_type": "markdown",
   "metadata": {},
   "source": [
    "##### показ красной части в спектре ч\\б #####"
   ]
  },
  {
   "cell_type": "code",
   "execution_count": null,
   "metadata": {},
   "outputs": [],
   "source": [
    "cv2.imshow('gray color fox - red spectrum', r)\n",
    "cv2.waitKey(0)"
   ]
  },
  {
   "cell_type": "markdown",
   "metadata": {},
   "source": [
    "##### обьединение слоев b, g, r #####"
   ]
  },
  {
   "cell_type": "code",
   "execution_count": null,
   "metadata": {},
   "outputs": [],
   "source": [
    "imgx = cv2.merge([b, g, r])\n",
    "cv2.imshow('normal color fox - merged colours', imgx)\n",
    "cv2.waitKey(0)"
   ]
  },
  {
   "cell_type": "markdown",
   "metadata": {},
   "source": [
    "##### Чтение изображения в палитре RGB  #####"
   ]
  },
  {
   "cell_type": "code",
   "execution_count": null,
   "metadata": {},
   "outputs": [],
   "source": [
    "imgx2 = cv2.imread('./image/fox2.JPG')\n",
    "\n",
    "cv2.imshow('strange color fox', imgx2)\n",
    "cv2.waitKey(0)\n",
    "cv2.destroyAllWindows() "
   ]
  },
  {
   "cell_type": "markdown",
   "metadata": {},
   "source": [
    "##### Возврат цвета изображения из RGB в BGR  #####"
   ]
  },
  {
   "cell_type": "code",
   "execution_count": null,
   "metadata": {},
   "outputs": [],
   "source": [
    "imgx2_rev_BGR = cv2.cvtColor(imgx2, cv2.COLOR_RGB2BGR)\n",
    "cv2.imshow('strange color fox - reversed to BGR', imgx2_rev_BGR)\n",
    "cv2.waitKey(0)\n",
    "cv2.destroyAllWindows() "
   ]
  },
  {
   "cell_type": "markdown",
   "metadata": {},
   "source": [
    "##### Чтение изображения в палитре HSV  #####"
   ]
  },
  {
   "cell_type": "code",
   "execution_count": null,
   "metadata": {},
   "outputs": [],
   "source": [
    "import cv2\n",
    "imgx3 = cv2.imread('./image/fox3.JPG')\n",
    "print(imgx3.shape)\n",
    "cv2.imshow('stranger_color_fox', imgx3)\n",
    "cv2.waitKey(0)\n"
   ]
  },
  {
   "cell_type": "markdown",
   "metadata": {},
   "source": [
    "##### Возврат цвета изображения из HSV в RGB  #####"
   ]
  },
  {
   "cell_type": "code",
   "execution_count": null,
   "metadata": {},
   "outputs": [],
   "source": [
    "imgx3_rev = cv2.cvtColor(imgx3, cv2.COLOR_HSV2RGB)\n",
    "cv2.imshow('stranger color fox - reversed to BGR', imgx3_rev)\n",
    "cv2.waitKey(0)\n",
    "cv2.destroyAllWindows()\n",
    "\n",
    "# почему-то сильная потеря качества и шумы на фото"
   ]
  },
  {
   "cell_type": "markdown",
   "metadata": {},
   "source": [
    "##### Чтение изображения в палитре lab  #####"
   ]
  },
  {
   "cell_type": "code",
   "execution_count": null,
   "metadata": {},
   "outputs": [],
   "source": [
    "imgx4 = cv2.imread('./image/fox4.JPG')\n",
    "print(imgx4.shape)\n",
    "cv2.imshow('strangest color fox', imgx4)\n",
    "cv2.waitKey(0)"
   ]
  },
  {
   "cell_type": "markdown",
   "metadata": {},
   "source": [
    "##### Возврат цвета изображения из lab в RGB   #####"
   ]
  },
  {
   "cell_type": "code",
   "execution_count": null,
   "metadata": {},
   "outputs": [],
   "source": [
    "imgx4_reversed = cv2.cvtColor(imgx4, cv2.COLOR_Lab2RGB)\n",
    "cv2.imshow('stranger color fox - reversed to BGR', imgx4_reversed)\n",
    "cv2.waitKey(0)\n",
    "cv2.destroyAllWindows()\n",
    "\n",
    "# тоже потеря качества, но уже чуть менее печальная"
   ]
  },
  {
   "cell_type": "markdown",
   "metadata": {},
   "source": [
    "### Функции оптимизации и трансформации изображений ###"
   ]
  },
  {
   "cell_type": "markdown",
   "metadata": {},
   "source": [
    "Перед тем как начать работать с распознаванием образов, необходимо подготовить изображение: размыть, окрасить в серый, изменить размер и т.д. В зависимости от задачи подбираются подходящие функции оптимизации и трансформации."
   ]
  },
  {
   "cell_type": "markdown",
   "metadata": {},
   "source": [
    "#### Размытие изображения ####\n",
    "Пример размытие по Гауссу (работает быстрее обычного в OpenCV)\n"
   ]
  },
  {
   "cell_type": "code",
   "execution_count": null,
   "metadata": {},
   "outputs": [],
   "source": [
    "cv2.GaussianBlur(src, ksize, sigmaX, dst=None, sigmaY=None, borderType=None)"
   ]
  },
  {
   "cell_type": "markdown",
   "metadata": {},
   "source": [
    "1. src (исходное изображение):\n",
    "- Изображение, которое вы хотите размытить. Mожет быть в оттенках серого или цветное.\n",
    "\n",
    "2. ksize (размер ядра):\n",
    "- Кортеж (width, height), определяющий размер Гауссова ядра. Оба значения должны быть нечетными числами (например, (5, 5)).\n",
    "- Размер ядра влияет на степень размытия. Чем больше ядро, тем сильнее размытие.\n",
    "\n",
    "3. sigmaX (сигма по оси X):\n",
    "- Стандартное отклонение Гауссового ядра по оси X. Чем больше значение sigmaX, тем сильнее размытие.\n",
    "- Если задать sigmaX равным 0, его значение будет автоматически рассчитано на основе размера ядра.\n",
    "\n",
    "4. sigmaY (сигма по оси Y, необязательный аргумент):\n",
    "- Стандартное отклонение Гауссового ядра по оси Y. Если не указано, будет использоваться значение sigmaX.\n",
    "- Этот аргумент позволяет задавать различные степени размытия по осям X и Y.\n",
    "\n",
    "5. dst (выходное изображение, необязательный аргумент):\n",
    "- Изображение, в которое будет сохранён результат. Если не указано, создаётся новое изображение.\n",
    "\n",
    "6. borderType (тип границы, необязательный аргумент):\n",
    "- Опциональный аргумент, определяющий, как обрабатывать границы изображения. По умолчанию используется cv2.BORDER_DEFAULT.\n"
   ]
  },
  {
   "cell_type": "code",
   "execution_count": 20,
   "metadata": {},
   "outputs": [
    {
     "data": {
      "text/plain": [
       "-1"
      ]
     },
     "execution_count": 20,
     "metadata": {},
     "output_type": "execute_result"
    }
   ],
   "source": [
    "img = cv2.GaussianBlur(img,(3, 3), 0) # GaussianBlur(изображение, (сила размытия), умножитель размытия)\n",
    "cv2.imshow('gauss', img)\n",
    "cv2.waitKey(0)"
   ]
  },
  {
   "cell_type": "markdown",
   "metadata": {},
   "source": [
    "#### удаление шума ####"
   ]
  },
  {
   "cell_type": "code",
   "execution_count": null,
   "metadata": {},
   "outputs": [],
   "source": [
    "fox3_without_noize = cv2.bilateralFilter(imgx3_rev, 10, 75, 75)\n",
    "#10 - диаметр каждого пикселя окрестности, использующейся в процессе фильтрации;\n",
    "# 75, 75 - сигма-фильтр в цветовом пространстве и сигма-фильтр в координатном пространстве.\n",
    "cv2.imshow('fox3 without noize', fox3_without_noize)\n",
    "cv2.waitKey(0)\n",
    "\n",
    "# все равно не вкусно\n"
   ]
  },
  {
   "cell_type": "markdown",
   "metadata": {},
   "source": [
    "### Функции трансформации ###\n",
    "Узнать и изменить размер изображения"
   ]
  },
  {
   "cell_type": "code",
   "execution_count": null,
   "metadata": {},
   "outputs": [],
   "source": [
    "print(img.shape)\n",
    "# терминал выводит кортеж из трёх элементов (высота, ширина, количество слоёв), 3 слоя - RGB"
   ]
  },
  {
   "cell_type": "markdown",
   "metadata": {},
   "source": [
    "Непропорционально изменим размер изображения:"
   ]
  },
  {
   "cell_type": "code",
   "execution_count": null,
   "metadata": {},
   "outputs": [],
   "source": [
    "img = cv2.resize(img, (300,500))"
   ]
  },
  {
   "cell_type": "markdown",
   "metadata": {},
   "source": [
    "Пропорционально изменим размер в два раза:"
   ]
  },
  {
   "cell_type": "code",
   "execution_count": null,
   "metadata": {},
   "outputs": [],
   "source": [
    "img = cv2.resize(img, (img.shape[1] // 2 ,img.shape[0] // 2)) # [0] - высота, первый элемент в кортеже, [1] - ширина"
   ]
  },
  {
   "cell_type": "markdown",
   "metadata": {},
   "source": [
    "### Обрезка фото ###\n",
    "Чтобы обрезать изображение воспользуемся срезами"
   ]
  },
  {
   "cell_type": "code",
   "execution_count": null,
   "metadata": {},
   "outputs": [],
   "source": [
    "cv2.imshow('Result', img[0:100, 0:150]) # точка (0,0) находится в левом верхнем углу\n"
   ]
  },
  {
   "cell_type": "markdown",
   "metadata": {},
   "source": [
    "Зеркальное отражение фото"
   ]
  },
  {
   "cell_type": "code",
   "execution_count": null,
   "metadata": {},
   "outputs": [],
   "source": [
    "img = cv2.flip(img, 1) \n",
    "# 0 - отзеркалить по вертикали, 1 - отзеркалить по горизонтали, -1 - отзеркалить по вертикали и горизонтали "
   ]
  },
  {
   "cell_type": "markdown",
   "metadata": {},
   "source": [
    "### Вращение фото ###\n",
    "Создадим функцию, которая будет принимать два значения: изображение и угол вращения.\n",
    "\n",
    "Определим ширину и высоту изображения\n",
    "\n",
    "Определим точку вращения изображения.\n",
    "\n",
    "Создадим матрицу и применим функцию cv2.getRotationMatrix2D (точка вращения, угол, степень увеличения изображения).\n",
    "\n",
    "Вернём перевёрнутое изображение, применив функцию cv2.warpAffine (изображение, матрица, размер изображения)"
   ]
  },
  {
   "cell_type": "code",
   "execution_count": null,
   "metadata": {},
   "outputs": [],
   "source": [
    "import cv2\n",
    "import numpy as np\n",
    "\n",
    "def rotate(img_param, angle): # создадим функцию \n",
    "  height, width = img_param.shape[:2] # возьмём из кортежа shape первые два значения\n",
    "  point = (width // 2, height // 2) # точкой вращения будет центр изображения\n",
    "  mat = cv2.getRotationMatrix2D(point, angle, 1) # создадим матрицу\n",
    "  return cv2.warpAffine(img_param, mat, (width, height)) # вернём перевёрнутое изображение\n",
    "  \n",
    "img = cv2.imread(\"./image/fox3.JPG\")\n",
    "img = rotate(img, -90)\n",
    "\n",
    "cv2.imshow('rotated_fox', img)\n",
    "cv2.waitKey(0)"
   ]
  },
  {
   "cell_type": "markdown",
   "metadata": {},
   "source": [
    "##### Examples #####\n",
    "Обрезка фото с вводом данных от пользователя"
   ]
  },
  {
   "cell_type": "code",
   "execution_count": null,
   "metadata": {},
   "outputs": [],
   "source": [
    "img = cv2.imread('./image/fox1.jpg')\n",
    "img = cv2.resize(img, (img.shape[1] // 3 ,img.shape[0] // 3))\n",
    "\n",
    "x1 = int(input('x1 = '))\n",
    "x2 = int(input('x2 = '))\n",
    "y1 = int(input('y1 = '))\n",
    "y2 = int(input('y2 = '))\n",
    "\n",
    "img1 = img[y1:y2, x1:x2]\n",
    "\n",
    "cv2.imshow('Result', img1)\n",
    "cv2.waitKey(0) \n",
    "cv2.destroyAllWindows() \n",
    "# for example: 10 500 10 500"
   ]
  },
  {
   "cell_type": "markdown",
   "metadata": {},
   "source": [
    "#### функция bilateralfilter() ####"
   ]
  },
  {
   "cell_type": "code",
   "execution_count": null,
   "metadata": {},
   "outputs": [],
   "source": [
    "cv2.bilateralFilter(src, d, sigmaColor, sigmaSpace, dst=None, borderType=None)"
   ]
  },
  {
   "cell_type": "markdown",
   "metadata": {},
   "source": [
    "1. src (исходное изображение):\n",
    "- Изображение, которое вы хотите отфильтровать. Mожет быть в оттенках серого или цветное.\n",
    "\n",
    "2. d (диаметр):\n",
    "- Диаметр пиксельного соседства, которое используется при фильтрации. Чем больше значение d, тем больше площадь, на которую влияет фильтр.\n",
    "Если задать d = 0, то его размер будет рассчитан на основе значения sigmaSpace.\n",
    "\n",
    "3. sigmaColor (сигма цвета):\n",
    "- Определяет, насколько сильно фильтр будет учитывать разницу в цвете между пикселями. Большое значение означает,\n",
    "что фильтр будет учитывать более широкий диапазон различий в цвете. Это помогает лучше сохранять края.\n",
    "\n",
    "4. sigmaSpace (сигма пространства):\n",
    "- Определяет, насколько сильно фильтр будет учитывать расстояние между пикселями. Большое значение sigmaSpace означает,\n",
    "что фильтр будет учитывать более удаленные пиксели при фильтрации. Это помогает сглаживать большие участки изображения.\n",
    "\n",
    "допустим: d=9 означает, что фильтр будет учитывать окружение 9x9 пикселей вокруг каждого пикселя.\n",
    "sigmaColor=75 и sigmaSpace=75 означают, что фильтр будет учитывать пиксели с значительным различием в цвете и расположенные на значительном расстоянии друг от друга."
   ]
  }
 ],
 "metadata": {
  "kernelspec": {
   "display_name": "Python 3",
   "language": "python",
   "name": "python3"
  },
  "language_info": {
   "codemirror_mode": {
    "name": "ipython",
    "version": 3
   },
   "file_extension": ".py",
   "mimetype": "text/x-python",
   "name": "python",
   "nbconvert_exporter": "python",
   "pygments_lexer": "ipython3",
   "version": "3.12.2"
  }
 },
 "nbformat": 4,
 "nbformat_minor": 2
}
