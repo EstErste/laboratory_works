{
 "cells": [
  {
   "cell_type": "code",
   "execution_count": null,
   "metadata": {},
   "outputs": [],
   "source": [
    "pip install opencv-python\n"
   ]
  },
  {
   "cell_type": "code",
   "execution_count": null,
   "metadata": {},
   "outputs": [],
   "source": [
    "import cv2"
   ]
  },
  {
   "cell_type": "markdown",
   "metadata": {},
   "source": [
    "## Загрузка и показ изображения ##\n",
    "\n"
   ]
  },
  {
   "cell_type": "markdown",
   "metadata": {},
   "source": [
    "#### Создадим переменную img и загрузим в неё изображение ####"
   ]
  },
  {
   "cell_type": "code",
   "execution_count": null,
   "metadata": {},
   "outputs": [],
   "source": [
    "\n",
    "img = cv2.imread(\"./image/i01_photo.jpg\")"
   ]
  },
  {
   "cell_type": "markdown",
   "metadata": {},
   "source": [
    "#### показ размера изображения ####"
   ]
  },
  {
   "cell_type": "code",
   "execution_count": null,
   "metadata": {},
   "outputs": [],
   "source": [
    "print(img.shape)"
   ]
  },
  {
   "cell_type": "markdown",
   "metadata": {},
   "source": [
    "#### изменение формата и размера ####"
   ]
  },
  {
   "cell_type": "code",
   "execution_count": null,
   "metadata": {},
   "outputs": [],
   "source": [
    "img = cv2.resize(img, (600, 800))\n",
    "#img = cv2.resize(img, (img.shape[1] // 2 ,img.shape[0] // 2)) # [0] - высота, первый элемент в кортеже, [1] - ширина"
   ]
  },
  {
   "cell_type": "markdown",
   "metadata": {},
   "source": [
    "#### вывод изображения, время показа и закрытие окна ####"
   ]
  },
  {
   "cell_type": "code",
   "execution_count": null,
   "metadata": {},
   "outputs": [],
   "source": [
    "cv2.imshow('Result', img) # Выведем изображение в отдельном окне, окно назовём 'Result'\n",
    "cv2.waitKey(0) # waitKey(10000) - окно будет показываться 10 секунд, waitKey(0) - будет показываться бесконечно\n",
    "cv2.destroyAllWindows() # закрытие всех окон"
   ]
  },
  {
   "cell_type": "markdown",
   "metadata": {},
   "source": [
    "## Загрузка и показ видео ##"
   ]
  },
  {
   "cell_type": "markdown",
   "metadata": {},
   "source": [
    "#### создадим переменную cap и загрузим в нее видео ####"
   ]
  },
  {
   "cell_type": "code",
   "execution_count": null,
   "metadata": {},
   "outputs": [],
   "source": [
    "cap = cv2.VideoCapture('./image/video.mp4') # Создадим переменную cap и загрузим в неё видео"
   ]
  },
  {
   "cell_type": "code",
   "execution_count": null,
   "metadata": {},
   "outputs": [],
   "source": [
    "import cv2\n",
    "cap = cv2.VideoCapture('./image/video.mp4')\n",
    "if not cap.isOpened():\n",
    "    print('error: could not open video.')\n",
    "    exit()\n",
    "\n",
    "fps = cap.get(cv2.CAP_PROP_FPS) #получаем количество кадров в секунду\n",
    "frame_count = int(cap.get(cv2.CAP_PROP_FRAME_COUNT)) #общее количество кадров в видео\n",
    "duration = frame_count / fps #продолжительность видео в секундах\n",
    "\n",
    "while cap.isOpened():\n",
    "    ret, frame = cap.read()\n",
    "    if not ret:\n",
    "        break\n",
    "\n",
    "    cv2.imshow('video', frame)\n",
    "\n",
    "    #ожидание 25 млсекунд между кадрами для видео с частотой 40 fps(1/40 секунды = 40 кадров в секунду)\n",
    "    if cv2.waitKey(int(1000/fps)) & 0xFF == ord('q'):\n",
    "        break\n",
    "    \n",
    "cap.release()\n",
    "cv2.destroyAllWindows()"
   ]
  },
  {
   "cell_type": "markdown",
   "metadata": {},
   "source": [
    "## Загрузка и показ видео с вебкамеры ##"
   ]
  },
  {
   "cell_type": "code",
   "execution_count": null,
   "metadata": {},
   "outputs": [],
   "source": [
    "import cv2"
   ]
  },
  {
   "cell_type": "markdown",
   "metadata": {},
   "source": [
    "#### Загрузка в переменную, изменение размера в пикселях ####"
   ]
  },
  {
   "cell_type": "code",
   "execution_count": null,
   "metadata": {},
   "outputs": [],
   "source": [
    "webc = cv2.VideoCapture(0)\n",
    "webc.set(3, 500) # id ширины 3\n",
    "webc.set(4, 300) # id высоты 4"
   ]
  },
  {
   "cell_type": "markdown",
   "metadata": {},
   "source": [
    "#### показ видео с вебкамеры и перевод в серый ####"
   ]
  },
  {
   "cell_type": "code",
   "execution_count": null,
   "metadata": {},
   "outputs": [],
   "source": [
    "webc = cv2.VideoCapture(0)\n",
    "if not webc.isOpened():       #если вебкамера закрыта\n",
    "    print(\"Cannot open camera\")\n",
    "    exit()\n",
    "\n",
    "\n",
    "while True:\n",
    "    ret, frame = webc.read() # получаем кадр за кадром\n",
    "    if not ret: # если кадр считался правильно, ret is True\n",
    "        print(\"Шляпа.Не могу получить кадр.\")\n",
    "        break\n",
    "    gray = cv2.cvtColor(frame, cv2.COLOR_BGR2GRAY) # делать изображение серым\n",
    "    cv2.imshow('frame', gray) # показать результат преобразования  \n",
    "    if cv2.waitKey(1) == ord('q'):\n",
    "        break\n",
    "# по окончании завершение и выход из цикла\n",
    "webc.release()\n",
    "cv2.destroyAllWindows()"
   ]
  },
  {
   "cell_type": "markdown",
   "metadata": {},
   "source": [
    "## Виды форматов ##"
   ]
  },
  {
   "cell_type": "markdown",
   "metadata": {},
   "source": [
    "### двухслойный ###\n"
   ]
  },
  {
   "cell_type": "markdown",
   "metadata": {},
   "source": [
    "##### бинарный #####\n",
    "Отобразить некое черное число на белом фоне. В таком случае есть всего два цвета(1 и 0), их легко отобразить и представить в формате чисел.Если говорить про большие ч\\б фото, то принцип такой же, но больше черных и белых точек. По прежнему используется бинарный формат, то есть лишь 1 и 0"
   ]
  },
  {
   "cell_type": "markdown",
   "metadata": {},
   "source": [
    "##### Чёрно-белый (GRAY) ######\n",
    "Больше уровней -> больше форматов цветовых гамм. Обычно используется 256 слоев от max черного до max белого. Градиент содержит все оттенки серого, что позволяет делать картинки с совершенно иным качеством. Для описания изображения каждую ячейку обозначаем от 0 (полностью черный) и до 255 (полностью белый). -> картинку состоящую из набора серых цветов описываем по тому же принципу, только количество чисел увеличивается до 255."
   ]
  },
  {
   "cell_type": "markdown",
   "metadata": {},
   "source": [
    "### Трёхслойный ###"
   ]
  },
  {
   "cell_type": "markdown",
   "metadata": {},
   "source": [
    "##### RGB ##### \n",
    "Цветные изображения состоят из трех серых изображений, каждый из которых приведен к красному, зеленому и синему цвету соответственно. При наложении этих трех картинок мы получаем цветовую гамму. Чтобы описать такое фото в формате чисел нужно на каждый пиксель указать три значения: значение от 0 до 255 из первой красной картинки, значение от 0 до 255 из второй зеленой картинки и наконец значение от 0 до 255 из третей синей картинки. "
   ]
  },
  {
   "cell_type": "markdown",
   "metadata": {},
   "source": [
    "##### HSV #####\n",
    "HSV – модель, что основана на RBG. Содержит все цвета из данного формата, но имеет иной способ их представления. Hue отвечает за оттенок (указывается в формате градуса (от 0o до 360)), Saturation за насыщенность, а Value за глубину. Такой формат удобен для *оптимизации фото."
   ]
  },
  {
   "cell_type": "markdown",
   "metadata": {},
   "source": [
    "##### Другие форматы #####\n",
    "BGR – Стандартное цветовое пространство OpenCV. При открытии файлов или отображении встроенными средствами используется именно оно. Является аналогом RGB пространства, но с другим порядком компонент. \\n\n",
    "\n",
    "XYZ – Данная модель была выведена в лаборатории, чтобы описать все цвета, которые может видеть глаз человека. Компоненты X, Y, Z описывают чувствительность среднестатистического наблюдателя к стандартным возбуждениям, в общем виде они представляют доработанные  R, G, B компоненты.\n",
    "\n",
    "LAB – Модель создана как доработанная модель XYZ, в которой решалась нелинейность модели с точки зрения человеческого глаза. В системе L*a*b координата L означает светлоту (в диапазоне от 0 до 100), а координаты a,b – означают позицию между зелёным-пурпурным, и синим-жёлтым цветами.\n",
    "\n",
    "YUV – Данная схема пришла из телевидения, где компонента Y – значение яркости, а UV – двух цветоразностных сигналов."
   ]
  },
  {
   "cell_type": "code",
   "execution_count": null,
   "metadata": {},
   "outputs": [],
   "source": [
    "# пример игры с цветом \n",
    "img1 = cv2.cvtColor(img, cv2.COLOR_BGR2RGB)\n",
    "cv2.imshow('Result', img1) # Выведем изображение в отдельном окне, окно назовём 'Result'\n",
    "cv2.waitKey(0) # waitKey(10000) - окно будет показываться 10 секунд, waitKey(0) - будет показываться бесконечно\n",
    "cv2.destroyAllWindows() # закрытие всех окон"
   ]
  },
  {
   "cell_type": "code",
   "execution_count": null,
   "metadata": {},
   "outputs": [],
   "source": [
    "# цветное изображение  черно-белое\n",
    "img2 = cv2.cvtColor(img, cv2.COLOR_BGR2GRAY)\n",
    "cv2.imshow('Result', img2) # Выведем изображение в отдельном окне, окно назовём 'Result'\n",
    "cv2.waitKey(0) # waitKey(10000) - окно будет показываться 10 секунд, waitKey(0) - будет показываться бесконечно\n",
    "cv2.destroyAllWindows() # закрытие всех окон"
   ]
  },
  {
   "cell_type": "markdown",
   "metadata": {},
   "source": [
    "### Разбиение на слои ###"
   ]
  },
  {
   "cell_type": "code",
   "execution_count": 124,
   "metadata": {},
   "outputs": [
    {
     "data": {
      "text/plain": [
       "-1"
      ]
     },
     "execution_count": 124,
     "metadata": {},
     "output_type": "execute_result"
    }
   ],
   "source": [
    "imgx = cv2.imread(\"./image/fox1.jpg\")\n",
    "imgx = cv2.resize(imgx, (imgx.shape[1] // 2 ,imgx.shape[0] // 2))\n",
    "cv2.imshow('nornal color fox', imgx)\n",
    "cv2.waitKey(0)\n"
   ]
  },
  {
   "cell_type": "code",
   "execution_count": 125,
   "metadata": {},
   "outputs": [
    {
     "name": "stdout",
     "output_type": "stream",
     "text": [
      "(1000, 1500, 3)\n"
     ]
    }
   ],
   "source": [
    "b, g, r = cv2.split(imgx)\n",
    "cv2.imshow(\"gray color fox - blue spectrum\", b)\n",
    "cv2.waitKey(0)\n",
    "print(imgx.shape)\n",
    "# Там где синий цвет был насыщенней мы видим оттенки белого.\n",
    "# Tам где его практически не было - оттенки чёрного. \n"
   ]
  },
  {
   "cell_type": "code",
   "execution_count": 127,
   "metadata": {},
   "outputs": [
    {
     "data": {
      "text/plain": [
       "-1"
      ]
     },
     "execution_count": 127,
     "metadata": {},
     "output_type": "execute_result"
    }
   ],
   "source": [
    "cv2.imshow('gray color fox - green spectrum',  g)\n",
    "cv2.waitKey(0)"
   ]
  },
  {
   "cell_type": "code",
   "execution_count": 128,
   "metadata": {},
   "outputs": [
    {
     "data": {
      "text/plain": [
       "-1"
      ]
     },
     "execution_count": 128,
     "metadata": {},
     "output_type": "execute_result"
    }
   ],
   "source": [
    "cv2.imshow('gray color fox - red spectrum', r)\n",
    "cv2.waitKey(0)"
   ]
  },
  {
   "cell_type": "code",
   "execution_count": 133,
   "metadata": {},
   "outputs": [
    {
     "data": {
      "text/plain": [
       "-1"
      ]
     },
     "execution_count": 133,
     "metadata": {},
     "output_type": "execute_result"
    }
   ],
   "source": [
    "imgx = cv2.merge([b, g, r])\n",
    "cv2.imshow('normal color fox - merged colours', imgx)\n",
    "cv2.waitKey(0)"
   ]
  },
  {
   "cell_type": "code",
   "execution_count": null,
   "metadata": {},
   "outputs": [],
   "source": [
    "imgx2 = cv2.imread('./image/fox2.JPG')\n",
    "\n",
    "cv2.imshow('strange color fox', imgx2)\n",
    "cv2.waitKey(0)\n",
    "cv2.destroyAllWindows() \n",
    "\n",
    "# начальное изображение явно в цветовом профиле RGB\n",
    "\n"
   ]
  },
  {
   "cell_type": "code",
   "execution_count": null,
   "metadata": {},
   "outputs": [],
   "source": [
    "imgx2_rev_BGR = cv2.cvtColor(imgx2, cv2.COLOR_RGB2BGR)\n",
    "cv2.imshow('strange color fox - reversed to BGR', imgx2_rev_BGR)\n",
    "cv2.waitKey(0)\n",
    "cv2.destroyAllWindows() "
   ]
  },
  {
   "cell_type": "code",
   "execution_count": 179,
   "metadata": {},
   "outputs": [
    {
     "data": {
      "text/plain": [
       "-1"
      ]
     },
     "execution_count": 179,
     "metadata": {},
     "output_type": "execute_result"
    }
   ],
   "source": [
    "imgx3 = cv2.imread('./image/fox3.JPG')\n",
    "cv2.imshow('stranger_color_fox', imgx3)\n",
    "cv2.waitKey(0)\n"
   ]
  },
  {
   "cell_type": "code",
   "execution_count": null,
   "metadata": {},
   "outputs": [],
   "source": [
    "imgx3_rev_BGR = cv2.cvtColor(imgx3, cv2.COLOR_HSV2RGB)\n",
    "\n",
    "cv2.imshow('stranger color fox - reversed to BGR', imgx3_rev_BGR)\n",
    "cv2.waitKey(0)\n",
    "cv2.destroyAllWindows()\n",
    "\n",
    "# почему-то сильная потеря качества и шумы на фото"
   ]
  },
  {
   "cell_type": "code",
   "execution_count": 200,
   "metadata": {},
   "outputs": [
    {
     "data": {
      "text/plain": [
       "-1"
      ]
     },
     "execution_count": 200,
     "metadata": {},
     "output_type": "execute_result"
    }
   ],
   "source": [
    "imgx4 = cv2.imread('./image/fox4.JPG')\n",
    "cv2.imshow('strangest color fox', imgx4)\n",
    "cv2.waitKey(0)"
   ]
  },
  {
   "cell_type": "code",
   "execution_count": null,
   "metadata": {},
   "outputs": [],
   "source": [
    "imgx4_reversed = cv2.cvtColor(imgx4, cv2.COLOR_Lab2RGB)\n",
    "cv2.imshow('stranger color fox - reversed to BGR', imgx4_reversed)\n",
    "cv2.waitKey(0)\n",
    "cv2.destroyAllWindows()\n",
    "\n",
    "# тоже потеря качества, но уже чуть менее печальная"
   ]
  }
 ],
 "metadata": {
  "kernelspec": {
   "display_name": "Python 3",
   "language": "python",
   "name": "python3"
  },
  "language_info": {
   "codemirror_mode": {
    "name": "ipython",
    "version": 3
   },
   "file_extension": ".py",
   "mimetype": "text/x-python",
   "name": "python",
   "nbconvert_exporter": "python",
   "pygments_lexer": "ipython3",
   "version": "3.12.2"
  }
 },
 "nbformat": 4,
 "nbformat_minor": 2
}
