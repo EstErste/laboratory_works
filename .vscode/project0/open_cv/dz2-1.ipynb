{
 "cells": [
  {
   "cell_type": "markdown",
   "id": "76c8771f",
   "metadata": {},
   "source": [
    "1 Создадите переменную img и загрузите в неё изображение photo.jpg. Выедите результат. "
   ]
  },
  {
   "cell_type": "code",
   "execution_count": 1,
   "id": "77a67184",
   "metadata": {},
   "outputs": [],
   "source": [
    "\n",
    "import cv2\n",
    "img = cv2.imread('C:/Users/ester/.ipython/laboratory_works/.vscode/project0/open_cv/image/photo.jpg')"
   ]
  },
  {
   "cell_type": "markdown",
   "id": "5330cb19",
   "metadata": {},
   "source": [
    "2 Пропорционально измените размер изображения и выведите результат"
   ]
  },
  {
   "cell_type": "code",
   "execution_count": null,
   "id": "1df1669f",
   "metadata": {
    "scrolled": true
   },
   "outputs": [],
   "source": [
    "print(img.shape)\n",
    "img = cv2.resize(img,(300,500))\n",
    "cv2.imshow('result',img)\n",
    "cv2.waitKey(0)\n",
    "cv2.destroyAllWindows\n"
   ]
  },
  {
   "cell_type": "markdown",
   "id": "37ced190",
   "metadata": {},
   "source": [
    "3 Скачайте видео из интернета длительность до 1 минуты, загрузите в файловый менеджер Jupyter Notebook и запустите его с помощью библиотеки OpenCV"
   ]
  },
  {
   "cell_type": "code",
   "execution_count": null,
   "id": "6913d689",
   "metadata": {},
   "outputs": [],
   "source": [
    "import cv2\n",
    "cap = cv2.VideoCapture('C:\\\\Users\\\\ester\\\\.ipython\\\\laboratory_works\\\\.vscode\\\\project0\\\\open_cv\\\\image\\\\video.mp4')\n",
    "if not cap.isOpened():\n",
    "    print('error: could not open video.')\n",
    "    exit()\n",
    "\n",
    "fps = cap.get(cv2.CAP_PROP_FPS) #получаем количество кадров в секунду\n",
    "frame_count = int(cap.get(cv2.CAP_PROP_FRAME_COUNT)) #общее количество кадров в видео\n",
    "duration = frame_count / fps #продолжительность видео в секундах\n",
    "\n",
    "while cap.isOpened():\n",
    "    ret, frame = cap.read()\n",
    "    if not ret:\n",
    "        break\n",
    "\n",
    "    cv2.imshow('video', frame)\n",
    "\n",
    "    #ожидание 25 млсекунд между кадрами для видео с частотой 40 fps(1/40 секунды = 40 кадров в секунду)\n",
    "    if cv2.waitKey(int(1000/fps)) & 0xFF == ord('q'):\n",
    "        break\n",
    "    \n",
    "cap.release()\n",
    "cv2.destroyAllWindows()\n",
    "\n"
   ]
  },
  {
   "cell_type": "markdown",
   "id": "505a9402",
   "metadata": {},
   "source": [
    "4 Уменьшите в 2 раза размер окна вывода видео"
   ]
  },
  {
   "cell_type": "code",
   "execution_count": 6,
   "id": "7ba9f610",
   "metadata": {},
   "outputs": [
    {
     "name": "stdout",
     "output_type": "stream",
     "text": [
      "FPS: 25.0, Total Frames: 1503, Duration: 60.12 seconds\n"
     ]
    }
   ],
   "source": [
    "import cv2\n",
    "\n",
    "# Открываем видеофайл или камеру\n",
    "cap = cv2.VideoCapture('C:/Users/ester/.ipython/laboratory_works/.vscode/project0/open_cv/image/video.mp4')\n",
    "\n",
    "\n",
    "if not cap.isOpened():\n",
    "    print(f\"Error: Could not open video file {video_path}\")\n",
    "    exit()\n",
    "\n",
    "# Получаем параметры видео\n",
    "fps = cap.get(cv2.CAP_PROP_FPS)\n",
    "frame_count = int(cap.get(cv2.CAP_PROP_FRAME_COUNT))\n",
    "duration = frame_count / fps if fps else 0\n",
    "\n",
    "print(f\"FPS: {fps}, Total Frames: {frame_count}, Duration: {duration} seconds\")\n",
    "\n",
    "while True:\n",
    "    ret, frame = cap.read()\n",
    "    if not ret:\n",
    "        print(\"Error: Frame could not be read.\")\n",
    "        break\n",
    "    \n",
    "    # Получаем размер кадра\n",
    "    height, width = frame.shape[:2]\n",
    "\n",
    "    \n",
    "    # Уменьшаем размер кадра в два раза\n",
    "    resized_frame = cv2.resize(frame, (width // 2, height // 2))\n",
    "    \n",
    "    # Отображаем уменьшенный кадр\n",
    "    cv2.imshow('Resized Video', resized_frame)\n",
    "    \n",
    "    if cv2.waitKey(1) & 0xFF == ord('q'):\n",
    "        break\n",
    "\n",
    "cap.release()\n",
    "cv2.destroyAllWindows()"
   ]
  }
 ],
 "metadata": {
  "kernelspec": {
   "display_name": "Python 3",
   "language": "python",
   "name": "python3"
  },
  "language_info": {
   "codemirror_mode": {
    "name": "ipython",
    "version": 3
   },
   "file_extension": ".py",
   "mimetype": "text/x-python",
   "name": "python",
   "nbconvert_exporter": "python",
   "pygments_lexer": "ipython3",
   "version": "3.12.2"
  }
 },
 "nbformat": 4,
 "nbformat_minor": 5
}
