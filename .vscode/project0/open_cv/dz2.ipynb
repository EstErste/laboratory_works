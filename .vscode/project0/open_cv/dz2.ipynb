{
 "cells": [
  {
   "cell_type": "code",
   "execution_count": 1,
   "metadata": {},
   "outputs": [],
   "source": [
    "import cv2"
   ]
  },
  {
   "cell_type": "code",
   "execution_count": 5,
   "metadata": {},
   "outputs": [],
   "source": [
    "imgx2 = cv2.imread('./image/fox2.JPG')\n",
    "\n",
    "cv2.imshow('strange color fox', imgx2)\n",
    "cv2.waitKey(0)\n",
    "cv2.destroyAllWindows() \n",
    "\n",
    "# начальное изображение явно в цветовом профиле RGB\n"
   ]
  },
  {
   "cell_type": "code",
   "execution_count": 7,
   "metadata": {},
   "outputs": [],
   "source": [
    "imgx2_rev_BGR = cv2.cvtColor(imgx2, cv2.COLOR_RGB2BGR)\n",
    "cv2.imshow('strange color fox - reversed to BGR', imgx2_rev_BGR)\n",
    "cv2.waitKey(0)\n",
    "cv2.destroyAllWindows() "
   ]
  },
  {
   "cell_type": "code",
   "execution_count": 19,
   "metadata": {},
   "outputs": [],
   "source": [
    "imgx3_rev_BGR = cv2.cvtColor(imgx3, cv2.COLOR_HSV2RGB)\n",
    "imgx3 = cv2.resize(imgx3, (900,800))\n",
    "cv2.imshow('stranger color fox - reversed to BGR', imgx3_rev_BGR)\n",
    "cv2.waitKey(0)\n",
    "cv2.destroyAllWindows()\n",
    "\n",
    "# почему-то сильная потеря качества и шумы на фото"
   ]
  },
  {
   "cell_type": "code",
   "execution_count": 20,
   "metadata": {},
   "outputs": [
    {
     "data": {
      "text/plain": [
       "-1"
      ]
     },
     "execution_count": 20,
     "metadata": {},
     "output_type": "execute_result"
    }
   ],
   "source": [
    "imgx4 = cv2.imread('./image/fox4.JPG')\n",
    "cv2.imshow('strangest color fox', imgx4)\n",
    "cv2.waitKey(0)"
   ]
  },
  {
   "cell_type": "code",
   "execution_count": 21,
   "metadata": {},
   "outputs": [],
   "source": [
    "imgx4_reversed = cv2.cvtColor(imgx4, cv2.COLOR_Lab2RGB)\n",
    "cv2.imshow('stranger color fox - reversed to BGR', imgx4_reversed)\n",
    "cv2.waitKey(0)\n",
    "cv2.destroyAllWindows()\n",
    "\n",
    "# тоже потеря качества, но уже чуть менее печальная"
   ]
  }
 ],
 "metadata": {
  "kernelspec": {
   "display_name": "Python 3",
   "language": "python",
   "name": "python3"
  },
  "language_info": {
   "codemirror_mode": {
    "name": "ipython",
    "version": 3
   },
   "file_extension": ".py",
   "mimetype": "text/x-python",
   "name": "python",
   "nbconvert_exporter": "python",
   "pygments_lexer": "ipython3",
   "version": "3.12.2"
  }
 },
 "nbformat": 4,
 "nbformat_minor": 2
}
