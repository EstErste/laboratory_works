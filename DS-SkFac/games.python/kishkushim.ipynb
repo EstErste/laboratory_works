{
 "cells": [
  {
   "cell_type": "code",
   "execution_count": null,
   "metadata": {},
   "outputs": [],
   "source": [
    "def my_function(x, y):\n",
    "    return ((1/((497.5+x)+y))*(y*9.8))\n",
    "\n",
    "# Инициализируем пустой список для хранения результатов\n",
    "results = []\n",
    "x_values = []\n",
    "\n",
    "# Получаем ввод от пользователя 5 раз\n",
    "for _ in range(5):\n",
    "    x = float(input(\"Введите первое число: \"))\n",
    "    y = float(input(\"Введите второе число: \"))\n",
    "    result = my_function(x, y)\n",
    "    results.append(result)\n",
    "    x_values.append(x)\n",
    "print(\"ускорения:\", results)\n",
    "results_array = np.array(results)\n",
    "x_values_array = np.array(x_values)\n",
    "print(\"дополнительный вес в тележке:\", x_values_array)"
   ]
  },
  {
   "cell_type": "code",
   "execution_count": 34,
   "metadata": {},
   "outputs": [
    {
     "name": "stdout",
     "output_type": "stream",
     "text": [
      "*\n",
      "**\n",
      "***\n",
      "**\n",
      "*\n"
     ]
    }
   ],
   "source": [
    "n = int(input())\n",
    "for i in range (n):\n",
    "    i = i+1\n",
    "    print('*'*i)\n",
    "for j in range (n-1, 0, -1):\n",
    "    print(\"*\"*j)"
   ]
  },
  {
   "cell_type": "code",
   "execution_count": 1,
   "metadata": {},
   "outputs": [
    {
     "name": "stdout",
     "output_type": "stream",
     "text": [
      "*\n",
      "**\n",
      "***\n",
      "****\n",
      "*****\n",
      "****\n",
      "***\n",
      "**\n",
      "*\n"
     ]
    }
   ],
   "source": [
    "# из *ек строится равнобедренный треугольник высотой в n\n",
    "n = int(input())\n",
    "for i in range (0, n, 1):\n",
    "    i = i+1\n",
    "    print('*'*i)\n",
    "for j in range (i-1, 0, -1):\n",
    "    print(\"*\"*j)"
   ]
  },
  {
   "cell_type": "code",
   "execution_count": 37,
   "metadata": {},
   "outputs": [
    {
     "name": "stdout",
     "output_type": "stream",
     "text": [
      "*\n",
      "**\n",
      "***\n",
      "****\n",
      "***\n",
      "**\n",
      "*\n"
     ]
    }
   ],
   "source": [
    "#вводится нечетное количество строк, из *ек строится равнобедренный треугольник\n",
    "n = int(input())\n",
    "for i in range (0, (n//2)+1, 1):\n",
    "    i = i+1\n",
    "    print('*'*i)\n",
    "for j in range (i-1, 0, -1):\n",
    "    print(\"*\"*j)"
   ]
  }
 ],
 "metadata": {
  "kernelspec": {
   "display_name": "Python 3",
   "language": "python",
   "name": "python3"
  },
  "language_info": {
   "codemirror_mode": {
    "name": "ipython",
    "version": 3
   },
   "file_extension": ".py",
   "mimetype": "text/x-python",
   "name": "python",
   "nbconvert_exporter": "python",
   "pygments_lexer": "ipython3",
   "version": "3.12.2"
  }
 },
 "nbformat": 4,
 "nbformat_minor": 2
}
